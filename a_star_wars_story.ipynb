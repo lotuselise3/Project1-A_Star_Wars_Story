{
 "cells": [
  {
   "cell_type": "code",
   "execution_count": 1,
   "metadata": {},
   "outputs": [],
   "source": [
    "import json\n",
    "import requests\n",
    "import pandas as pd\n",
    "import matplotlib.pyplot as plt\n",
    "import numpy as np\n",
    "import scipy.stats as sts"
   ]
  },
  {
   "cell_type": "code",
   "execution_count": 2,
   "metadata": {},
   "outputs": [],
   "source": [
    "#films\n",
    "url_films = \"http://swapi.dev/api/films/\" \n",
    "films_response = requests.get(url_films).json()\n",
    "\n",
    "#people\n",
    "url_people = \"http://swapi.dev/api/people/\" \n",
    "people_response = requests.get(url_people).json()\n",
    "\n",
    "#planets\n",
    "url_planets = \"http://swapi.dev/api/planets/\"\n",
    "planets_response = requests.get(url_planets).json()\n",
    "\n",
    "#species\n",
    "url_species = \"http://swapi.dev/api/species/\" \n",
    "species_response = requests.get(url_species).json()\n",
    "\n",
    "#vehicles\n",
    "url_vehicles = \"http://swapi.dev/api/vehicles/\" \n",
    "vehicles_response = requests.get(url_vehicles).json()\n",
    "\n",
    "#starships\n",
    "url_starships = \"http://swapi.dev/api/starships/\"\n",
    "starships_response = requests.get(url_starships).json()"
   ]
  },
  {
   "cell_type": "code",
   "execution_count": null,
   "metadata": {},
   "outputs": [],
   "source": [
    "#films pprint\n",
    "print(json.dumps(people_response, indent=2, sort_keys=True))"
   ]
  },
  {
   "cell_type": "code",
   "execution_count": null,
   "metadata": {},
   "outputs": [],
   "source": [
    "print(json.dumps(films_response[\"results\"], indent=2, sort_keys=True))"
   ]
  },
  {
   "cell_type": "code",
   "execution_count": null,
   "metadata": {},
   "outputs": [],
   "source": [
    "character_list = []\n",
    "page = [\"1\", \"2\", \"3\", \"4\", \"5\", \"6\", \"7\", \"8\"]\n",
    "url_people_next = f\"http://swapi.dev/api/people/?page=\"\n",
    "\n",
    "for x in page:\n",
    "    people_response_next = requests.get(url_people_next + x).json()\n",
    "    \n",
    "#for loop to list names\n",
    "    for people in people_response_next[\"results\"]:\n",
    "        character_name = people[\"name\"]\n",
    "        character_list.append(character_name)\n",
    "        print(character_name)"
   ]
  },
  {
   "cell_type": "code",
   "execution_count": null,
   "metadata": {},
   "outputs": [],
   "source": [
    "print(character_list)"
   ]
  },
  {
   "cell_type": "code",
   "execution_count": null,
   "metadata": {},
   "outputs": [],
   "source": [
    "all_characters = []\n",
    "m_title = []\n",
    "for films in films_response[\"results\"]:\n",
    "    m_title.append(films[\"title\"])\n",
    "    all_characters.append(films[\"characters\"])\n",
    "\n",
    "print(m_title)\n",
    "print(all_characters)\n",
    "\n",
    "#create a dataframe and merge the info"
   ]
  },
  {
   "cell_type": "code",
   "execution_count": null,
   "metadata": {},
   "outputs": [],
   "source": [
    "people_df = pd.DataFrame({\"Title\": m_title,\n",
    "                          \"Characters\": all_characters})\n",
    "people_df"
   ]
  },
  {
   "cell_type": "code",
   "execution_count": null,
   "metadata": {},
   "outputs": [],
   "source": [
    "people_df=people_df.join(people_df['Characters'].str.split(',', expand=True).add_prefix('Characters'))\n",
    "people_df"
   ]
  },
  {
   "cell_type": "code",
   "execution_count": null,
   "metadata": {},
   "outputs": [],
   "source": [
    "for films in films_response[\"results\"]:\n",
    "    movie_title = films[\"title\"]\n",
    "    print(movie_title)"
   ]
  },
  {
   "cell_type": "code",
   "execution_count": null,
   "metadata": {},
   "outputs": [],
   "source": [
    "#planets pprint\n",
    "print(json.dumps(planets_response, indent=2, sort_keys=True))"
   ]
  },
  {
   "cell_type": "code",
   "execution_count": null,
   "metadata": {},
   "outputs": [],
   "source": [
    "#for loop to list names in films\n",
    "for planets in planets_response[\"results\"]:\n",
    "    planet_name = planets[\"name\"]\n",
    "    print(planet_name)\n",
    "    \n",
    "\n",
    "        "
   ]
  },
  {
   "cell_type": "code",
   "execution_count": null,
   "metadata": {
    "scrolled": true
   },
   "outputs": [],
   "source": [
    "planet_name = []\n",
    "page = [\"1\", \"2\", \"3\", \"4\", \"5\", \"6\"]\n",
    "url_planets_next = f\"http://swapi.dev/api/planets/?page=\"\n",
    "\n",
    "for x in page:\n",
    "    planets_response_next = requests.get(url_planets_next + x).json()\n",
    "    \n",
    "#for loop to list names in films\n",
    "    for planets in planets_response_next[\"results\"]:\n",
    "        planet_name = planets[\"name\"]\n",
    "        print(planet_name)"
   ]
  },
  {
   "cell_type": "code",
   "execution_count": null,
   "metadata": {},
   "outputs": [],
   "source": []
  },
  {
   "cell_type": "code",
   "execution_count": null,
   "metadata": {},
   "outputs": [],
   "source": [
    "print(json.dumps(planets_response_next, indent=2, sort_keys=True))"
   ]
  },
  {
   "cell_type": "code",
   "execution_count": null,
   "metadata": {},
   "outputs": [],
   "source": [
    "#planets pprint (results)\n",
    "print(json.dumps(planets_response[\"results\"], indent=2, sort_keys=True))"
   ]
  },
  {
   "cell_type": "code",
   "execution_count": null,
   "metadata": {},
   "outputs": [],
   "source": [
    "#count number of planets\n",
    "planet_count = planets_response[\"count\"]\n",
    "print(f'The number of Star Wars planets in this API is {planet_count}')"
   ]
  },
  {
   "cell_type": "code",
   "execution_count": null,
   "metadata": {},
   "outputs": [],
   "source": [
    "#species pprint\n",
    "print(json.dumps(species_response, indent=2, sort_keys=True))"
   ]
  },
  {
   "cell_type": "code",
   "execution_count": null,
   "metadata": {},
   "outputs": [],
   "source": [
    "#number of species\n",
    "species_count = species_response[\"count\"]\n",
    "print(f'The number of Star Wars species in this API is {species_count}')"
   ]
  },
  {
   "cell_type": "code",
   "execution_count": null,
   "metadata": {},
   "outputs": [],
   "source": [
    "species_names = []\n",
    "#find_species = species_response['results']\n",
    "for name in list(species_response['results']):\n",
    "    species_query = url_species\n",
    "    species_response = requests.get(species_query)\n",
    "    species_response_json = species_response.json()\n",
    "\n",
    "\n",
    "    try:\n",
    "        species_names.append['name']\n",
    "        starwars_characters.append(character)\n",
    "        print(f\"{name}\")\n",
    "        \n",
    "   \n",
    "    # Handle exceptions for a character that is not available in the Star Wars API\n",
    "    except: \n",
    "        print(f\"{name} not found\")\n",
    "    pass\n",
    "print(species_names)"
   ]
  },
  {
   "cell_type": "code",
   "execution_count": null,
   "metadata": {},
   "outputs": [],
   "source": [
    "## Set url for API\n",
    "url_people = 'https://swapi.dev/api/people/?search='\n",
    "\n",
    "# List of characters\n",
    "'''\n",
    "search_characters = ['R2-D2', 'C-3PO', 'Darth Vader', 'Leia', 'Luke Skywalker', 'Chewbacca', 'Dooku', \\\n",
    "                     'Anakin Skywalker', 'Obi-Wan Kenobi', 'Lando Calrissian', 'Han Solo', 'Yoda',\\\n",
    "                     'Mace Windu', 'Plo Koon', 'Jango Fett', 'Grievous', 'Palpatine', 'Darth Maul',\\\n",
    "                     'Qui-Gon Jinn', 'Padmé', 'Jar Jar Binks', 'Han Solo', 'Nute Gunray', 'Ki-Adi-Mundi', 'Kit Fisto']\n",
    "'''\n",
    "search_characters = character_list\n",
    "\n",
    "# Set empty lists to hold character's height and mass\n",
    "height = []\n",
    "mass = []\n",
    "starwars_characters = []\n",
    "\n",
    "# Loop through each character and make API request\n",
    "for character in search_characters:\n",
    "    \n",
    "    # Create search query, make request and store in json\n",
    "    query = url_people + character\n",
    "    response = requests.get(query)\n",
    "    response_json = response.json()\n",
    "    \n",
    "    \n",
    "    # Try to grab the height and mass of characters if they are available in the Star Wars API\n",
    "    try:\n",
    "        height.append(response_json['results'][0]['height'])\n",
    "        mass.append(response_json['results'][0]['mass'])\n",
    "        starwars_characters.append(character)\n",
    "        print(f\"{character} found! Appending stats\")\n",
    "        \n",
    "   \n",
    "    # Handle exceptions for a character that is not available in the Star Wars API\n",
    "    except: \n",
    "        print(f\"{character} not found\")\n",
    "        pass"
   ]
  },
  {
   "cell_type": "code",
   "execution_count": null,
   "metadata": {},
   "outputs": [],
   "source": [
    "# count characters in list\n",
    "char_count = len(search_characters)\n",
    "print(f'The number of characters found is {char_count}')"
   ]
  },
  {
   "cell_type": "code",
   "execution_count": null,
   "metadata": {},
   "outputs": [],
   "source": [
    "#create new dataframe for all characters found\n",
    "characters_df = pd.DataFrame({\"Character\": search_characters,\n",
    "                              \"Height\": height,\n",
    "                              \"Mass\": mass})\n",
    "print(characters_df)\n"
   ]
  },
  {
   "cell_type": "code",
   "execution_count": null,
   "metadata": {},
   "outputs": [],
   "source": [
    "clean_characters_df = characters_df.drop(characters_df[characters_df['Height'] == 'unknown'].index) \n",
    "clean_characters_df = characters_df.drop(characters_df[characters_df['Mass'] == 'unknown'].index) \n",
    "\n",
    "print(clean_characters_df)"
   ]
  },
  {
   "cell_type": "code",
   "execution_count": null,
   "metadata": {},
   "outputs": [],
   "source": [
    "#reset index to new character count\n",
    "clean_characters_df = clean_characters_df.reset_index()\n",
    "clean_characters_df"
   ]
  },
  {
   "cell_type": "code",
   "execution_count": null,
   "metadata": {},
   "outputs": [],
   "source": [
    "#lists for height and mass\n",
    "for i in range(0, len(height)):\n",
    "    height[i] = float(height[i])\n",
    "print(height)\n",
    "\n",
    "for i in range(0, len(mass)):\n",
    "    mass[i] = round(float(mass[i]),2)\n",
    "print(mass)"
   ]
  },
  {
   "cell_type": "code",
   "execution_count": null,
   "metadata": {},
   "outputs": [],
   "source": [
    "# Create DataFrames\n",
    "\n",
    "#star_wars_df = pd.DataFrame({\"Characters\": starwars_characters,\n",
    "#                             \"Character Height\": height,\n",
    "#                             \"Character Mass\": mass})\n",
    "print(clean_characters_df)                             \n",
    "#height ascending order\n",
    "height_df = clean_characters_df.sort_values(\"Height\", ascending=True)\n",
    "print(height_df)"
   ]
  },
  {
   "cell_type": "code",
   "execution_count": null,
   "metadata": {},
   "outputs": [],
   "source": [
    "#mass ascending order\n",
    "mass_df = clean_characters_df.sort_values(\"Mass\", ascending=True)\n",
    "print(mass_df)"
   ]
  },
  {
   "cell_type": "code",
   "execution_count": null,
   "metadata": {},
   "outputs": [],
   "source": [
    "tick_locations = [value for value in clean_characters_df[\"Character\"]]\n",
    "labels = clean_characters_df[\"Character\"]\n",
    "plt.figure(figsize=(20, 10))\n",
    "plt.bar(height_df[\"Character\"], height_df[\"Height\"])\n",
    "plt.xticks(tick_locations, labels, rotation=\"vertical\")\n",
    "plt.title(\"Star Wars (Relative) Character Heights\")"
   ]
  },
  {
   "cell_type": "code",
   "execution_count": null,
   "metadata": {},
   "outputs": [],
   "source": [
    "tick_locations = [value for value in clean_characters_df[\"Character\"]]\n",
    "labels = clean_characters_df[\"Character\"]\n",
    "plt.bar(mass_df[\"Character\"], mass_df[\"Mass\"])\n",
    "plt.xticks(tick_locations, labels, rotation=\"vertical\")\n",
    "plt.title(\"Star Wars (Relative) Character Masses\")"
   ]
  },
  {
   "cell_type": "code",
   "execution_count": null,
   "metadata": {},
   "outputs": [],
   "source": [
    "#scatter plot height vs mass, ## how do I add character labels?? \n",
    "x_values = height_df[\"Character Height\"]\n",
    "y_values = mass_df[\"Character Mass\"]\n",
    "plt.scatter(x_values, y_values)\n",
    "plt.grid()\n",
    "plt.title(\"Character Height vs Mass\")\n",
    "plt.xlabel(\"Character Height\")\n",
    "plt.ylabel(\"Character Mass\")"
   ]
  },
  {
   "cell_type": "code",
   "execution_count": null,
   "metadata": {},
   "outputs": [],
   "source": [
    "plt.hist(height_df[\"Character Height\"])\n",
    "plt.title(\"Star Wars Character Height Distribution\")\n",
    "plt.xlabel(\"Character Height (arbitratry units)\")\n",
    "plt.ylabel(\"Counts\")\n",
    "print(sts.normaltest(height_df[\"Character Height\"].sample(21)))\n",
    "sd_numpy = np.std(height_df[\"Character Height\"],ddof = 0)\n",
    "print(f\"The population standard deviation using the NumPy module is {sd_numpy}\")\n",
    "var_numpy = np.var(height_df[\"Character Height\"],ddof = 0)\n",
    "print(f\"The population variance using the NumPy module is {var_numpy}\")"
   ]
  },
  {
   "cell_type": "code",
   "execution_count": null,
   "metadata": {},
   "outputs": [],
   "source": [
    "# Calculate the 68-95-99.7 rule using the standard deviation\n",
    "mean_numpy = np.mean(height_df[\"Character Height\"])\n",
    "print(f\"The mean height of Star Wars characters is {mean_numpy}\")\n",
    "print(f\"Roughly 68% of the data is between {round(mean_numpy-sd_numpy,3)} and {round(mean_numpy+sd_numpy,3)}\")\n",
    "print(f\"Roughly 95% of the data is between {round(mean_numpy-2*sd_numpy,3)} and {round(mean_numpy+2*sd_numpy,3)}\")\n",
    "print(f\"Roughly 99.7% of the data is between {round(mean_numpy-3*sd_numpy,3)} and {round(mean_numpy+3*sd_numpy,3)}\")"
   ]
  },
  {
   "cell_type": "code",
   "execution_count": null,
   "metadata": {},
   "outputs": [],
   "source": [
    "plt.hist(mass_df[\"Character Mass\"])\n",
    "plt.title(\"Star Wars Character Mass Distribution\")\n",
    "plt.xlabel(\"Character Mass (arbitratry units)\")\n",
    "plt.ylabel(\"Counts\")\n",
    "print(sts.normaltest(mass_df[\"Character Mass\"].sample(21)))\n",
    "sd_numpy = np.std(mass_df[\"Character Mass\"],ddof = 0)\n",
    "print(f\"The population standard deviation using the NumPy module is {sd_numpy}\")\n",
    "var_numpy = np.var(mass_df[\"Character Mass\"],ddof = 0)\n",
    "print(f\"The population variance using the NumPy module is {var_numpy}\")"
   ]
  },
  {
   "cell_type": "code",
   "execution_count": null,
   "metadata": {},
   "outputs": [],
   "source": [
    "# Calculate the 68-95-99.7 rule using the standard deviation\n",
    "mean_numpy = np.mean(mass_df[\"Character Mass\"])\n",
    "print(f\"The mean mass of Star Wars characters is {mean_numpy}\")\n",
    "print(f\"Roughly 68% of the data is between {round(mean_numpy-sd_numpy,3)} and {round(mean_numpy+sd_numpy,3)}\")\n",
    "print(f\"Roughly 95% of the data is between {round(mean_numpy-2*sd_numpy,3)} and {round(mean_numpy+2*sd_numpy,3)}\")\n",
    "print(f\"Roughly 99.7% of the data is between {round(mean_numpy-3*sd_numpy,3)} and {round(mean_numpy+3*sd_numpy,3)}\")"
   ]
  },
  {
   "cell_type": "code",
   "execution_count": null,
   "metadata": {},
   "outputs": [],
   "source": []
  }
 ],
 "metadata": {
  "kernelspec": {
   "display_name": "Python 3",
   "language": "python",
   "name": "python3"
  },
  "language_info": {
   "codemirror_mode": {
    "name": "ipython",
    "version": 3
   },
   "file_extension": ".py",
   "mimetype": "text/x-python",
   "name": "python",
   "nbconvert_exporter": "python",
   "pygments_lexer": "ipython3",
   "version": "3.8.3"
  },
  "latex_envs": {
   "LaTeX_envs_menu_present": true,
   "autoclose": false,
   "autocomplete": true,
   "bibliofile": "biblio.bib",
   "cite_by": "apalike",
   "current_citInitial": 1,
   "eqLabelWithNumbers": true,
   "eqNumInitial": 1,
   "hotkeys": {
    "equation": "Ctrl-E",
    "itemize": "Ctrl-I"
   },
   "labels_anchors": false,
   "latex_user_defs": false,
   "report_style_numbering": false,
   "user_envs_cfg": false
  }
 },
 "nbformat": 4,
 "nbformat_minor": 2
}
